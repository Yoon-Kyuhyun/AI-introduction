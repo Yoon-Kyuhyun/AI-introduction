{
 "cells": [
  {
   "cell_type": "code",
   "execution_count": 12,
   "metadata": {},
   "outputs": [],
   "source": [
    "import tensorflow as tf\n",
    "from tensorflow.keras import layers, models\n",
    "import matplotlib.pyplot as plt\n",
    "import numpy as np\n",
    "import pandas as pd"
   ]
  },
  {
   "cell_type": "markdown",
   "metadata": {},
   "source": [
    "데이터셋 로드 및 2D 변환"
   ]
  },
  {
   "cell_type": "code",
   "execution_count": 6,
   "metadata": {},
   "outputs": [],
   "source": [
    "# MNIST 데이터셋 로드\n",
    "# tensorflow는 MNIST 데이터셋을 바로 불러올 수 있는 기능 제공\n",
    "mnist = tf.keras.datasets.mnist"
   ]
  },
  {
   "cell_type": "markdown",
   "metadata": {},
   "source": [
    "데이터셋 훈련"
   ]
  },
  {
   "cell_type": "code",
   "execution_count": 7,
   "metadata": {},
   "outputs": [],
   "source": [
    "# 데이터셋 로드 및 분할\n",
    "(X_train, y_train), (X_test, y_test) = mnist.load_data()\n",
    "\n",
    "# 데이터 전처리: 이미지를 0~1 범위로 정규화\n",
    "X_train, X_test = X_train / 255.0, X_test / 255.0"
   ]
  },
  {
   "cell_type": "markdown",
   "metadata": {},
   "source": [
    "모델 학습 및 출력"
   ]
  },
  {
   "cell_type": "code",
   "execution_count": 16,
   "metadata": {},
   "outputs": [
    {
     "name": "stdout",
     "output_type": "stream",
     "text": [
      "Epoch 1/5\n",
      "\u001b[1m1875/1875\u001b[0m \u001b[32m━━━━━━━━━━━━━━━━━━━━\u001b[0m\u001b[37m\u001b[0m \u001b[1m5s\u001b[0m 2ms/step - accuracy: 0.8553 - loss: 0.4903\n",
      "Epoch 2/5\n",
      "\u001b[1m1875/1875\u001b[0m \u001b[32m━━━━━━━━━━━━━━━━━━━━\u001b[0m\u001b[37m\u001b[0m \u001b[1m5s\u001b[0m 2ms/step - accuracy: 0.9568 - loss: 0.1505\n",
      "Epoch 3/5\n",
      "\u001b[1m1875/1875\u001b[0m \u001b[32m━━━━━━━━━━━━━━━━━━━━\u001b[0m\u001b[37m\u001b[0m \u001b[1m5s\u001b[0m 2ms/step - accuracy: 0.9676 - loss: 0.1109\n",
      "Epoch 4/5\n",
      "\u001b[1m1875/1875\u001b[0m \u001b[32m━━━━━━━━━━━━━━━━━━━━\u001b[0m\u001b[37m\u001b[0m \u001b[1m5s\u001b[0m 2ms/step - accuracy: 0.9733 - loss: 0.0865\n",
      "Epoch 5/5\n",
      "\u001b[1m1875/1875\u001b[0m \u001b[32m━━━━━━━━━━━━━━━━━━━━\u001b[0m\u001b[37m\u001b[0m \u001b[1m5s\u001b[0m 2ms/step - accuracy: 0.9787 - loss: 0.0712\n",
      "\u001b[1m313/313\u001b[0m \u001b[32m━━━━━━━━━━━━━━━━━━━━\u001b[0m\u001b[37m\u001b[0m \u001b[1m1s\u001b[0m 2ms/step - accuracy: 0.9729 - loss: 0.0835\n",
      "Test accuracy: 0.9765999913215637\n"
     ]
    },
    {
     "data": {
      "image/png": "[encoded data removed]",
      "text/plain": [
       "<Figure size 640x480 with 1 Axes>"
      ]
     },
     "metadata": {},
     "output_type": "display_data"
    },
    {
     "name": "stdout",
     "output_type": "stream",
     "text": [
      "\u001b[1m313/313\u001b[0m \u001b[32m━━━━━━━━━━━━━━━━━━━━\u001b[0m\u001b[37m\u001b[0m \u001b[1m0s\u001b[0m 1ms/step\n",
      "\u001b[1m313/313\u001b[0m \u001b[32m━━━━━━━━━━━━━━━━━━━━\u001b[0m\u001b[37m\u001b[0m \u001b[1m0s\u001b[0m 1ms/step\n",
      "Predicted label for the first test image: 7\n"
     ]
    }
   ],
   "source": [
    "# 모델 구성\n",
    "model = models.Sequential([\n",
    "    layers.Flatten(input_shape=(28, 28)),    # 28x28 이미지를 1차원 벡터로 변환\n",
    "    layers.Dense(128, activation='relu'),    # 첫 번째 은닉층: 128개의 뉴런, ReLU 활성화 함수\n",
    "    layers.Dropout(0.2),                     # Dropout: 과적합 방지 (20%)\n",
    "    layers.Dense(10, activation='softmax')   # 출력층: 10개의 클래스 (0~9)\n",
    "])\n",
    "\n",
    "# 모델 컴파일\n",
    "model.compile(optimizer='adam',\n",
    "              loss='sparse_categorical_crossentropy', # 다중 클래스 분류 손실 함수\n",
    "              metrics=['accuracy'])\n",
    "\n",
    "# 모델 학습\n",
    "model.fit(X_train, y_train, epochs = 5)\n",
    "\n",
    "# 모델 평가\n",
    "test_loss, test_acc = model.evaluate(X_test, y_test)\n",
    "print(f\"Test accuracy: {test_acc}\")\n",
    "\n",
    "# 첫 번째 테스트 이미지를 출력하고 예측값 확인\n",
    "plt.imshow(X_test[0], cmap=plt.cm.binary)\n",
    "plt.show()\n",
    "\n",
    "# 예측 수행\n",
    "y_pred = model.predict(X_test)\n",
    "\n",
    "# 예측된 라벨을 DataFrame으로 변환\n",
    "y_pred_labels = pd.DataFrame(np.argmax(y_pred, axis=1), columns=['Predicted'])\n",
    "\n",
    "# 원핫 인코딩으로 변환\n",
    "y_pred_one_hot_df = pd.get_dummies(y_pred_labels['Predicted'], prefix='Class')\n",
    "\n",
    "# 예측 수행\n",
    "y_pred = model.predict(X_test)\n",
    "print(f\"Predicted label for the first test image: {tf.argmax(y_pred[0])}\")"
   ]
  },
  {
   "cell_type": "code",
   "execution_count": 17,
   "metadata": {},
   "outputs": [
    {
     "name": "stdout",
     "output_type": "stream",
     "text": [
      "One-hot encoded: [0. 0. 0. 0. 0. 0. 0. 1. 0. 0.]\n"
     ]
    }
   ],
   "source": [
    "# 예측된 라벨을 원핫 인코딩으로 변환\n",
    "y_pred_one_hot = tf.keras.utils.to_categorical(np.argmax(y_pred, axis=1), num_classes=10)\n",
    "print(f\"One-hot encoded: {y_pred_one_hot[0]}\")"
   ]
  },
  {
   "cell_type": "code",
   "execution_count": 18,
   "metadata": {},
   "outputs": [
    {
     "name": "stdout",
     "output_type": "stream",
     "text": [
      "Predicted label for the first test image (One-hot encoded):\n",
      "Class_0    False\n",
      "Class_1    False\n",
      "Class_2    False\n",
      "Class_3    False\n",
      "Class_4    False\n",
      "Class_5    False\n",
      "Class_6    False\n",
      "Class_7     True\n",
      "Class_8    False\n",
      "Class_9    False\n",
      "Name: 0, dtype: bool\n"
     ]
    }
   ],
   "source": [
    "# 원핫 인코딩으로 변환\n",
    "y_pred_one_hot_df = pd.get_dummies(y_pred_labels['Predicted'], columns=['Predicted'], prefix='Class')\n",
    "print(f\"Predicted label for the first test image (One-hot encoded):\\n{y_pred_one_hot_df.iloc[0]}\")"
   ]
  }
 ],
 "metadata": {
  "kernelspec": {
   "display_name": "base",
   "language": "python",
   "name": "python3"
  },
  "language_info": {
   "codemirror_mode": {
    "name": "ipython",
    "version": 3
   },
   "file_extension": ".py",
   "mimetype": "text/x-python",
   "name": "python",
   "nbconvert_exporter": "python",
   "pygments_lexer": "ipython3",
   "version": "3.9.13"
  }
 },
 "nbformat": 4,
 "nbformat_minor": 2
}
