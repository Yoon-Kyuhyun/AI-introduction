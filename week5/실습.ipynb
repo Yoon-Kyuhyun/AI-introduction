{
 "cells": [
  {
   "cell_type": "code",
   "execution_count": 8,
   "metadata": {},
   "outputs": [],
   "source": [
    "import matplotlib.pyplot as plt\n",
    "from sklearn import datasets, metrics\n",
    "from sklearn.model_selection import train_test_split\n",
    "from sklearn.neighbors import KNeighborsClassifier\n",
    "from sklearn.svm import SVC  "
   ]
  },
  {
   "cell_type": "markdown",
   "metadata": {},
   "source": [
    "데이터셋 로드 및 2D 변환"
   ]
  },
  {
   "cell_type": "code",
   "execution_count": 9,
   "metadata": {},
   "outputs": [],
   "source": [
    "# 손글씨 데이터셋 로드 (digits 데이터셋)\n",
    "digits = datasets.load_digits()\n",
    "\n",
    "# 데이터의 샘플 수\n",
    "n_samples = len(digits.images)\n",
    "\n",
    "# 데이터를 2D 배열로 변환 (각 이미지가 8x8 크기이므로 64차원 벡터로 변환)\n",
    "data = digits.images.reshape((n_samples, -1))"
   ]
  },
  {
   "cell_type": "markdown",
   "metadata": {},
   "source": [
    "KNN 분류"
   ]
  },
  {
   "cell_type": "code",
   "execution_count": 10,
   "metadata": {},
   "outputs": [
    {
     "name": "stdout",
     "output_type": "stream",
     "text": [
      "0.9888888888888889\n",
      "[0]\n"
     ]
    },
    {
     "name": "stderr",
     "output_type": "stream",
     "text": [
      "c:\\Users\\Admin\\anaconda3\\lib\\site-packages\\sklearn\\neighbors\\_classification.py:211: FutureWarning: Unlike other reduction functions (e.g. `skew`, `kurtosis`), the default behavior of `mode` typically preserves the axis it acts along. In SciPy 1.11.0, this behavior will change: the default value of `keepdims` will become False, the `axis` over which the statistic is taken will be eliminated, and the value None will no longer be accepted. Set `keepdims` to True or False to avoid this warning.\n",
      "  mode, _ = stats.mode(_y[neigh_ind, k], axis=1)\n",
      "c:\\Users\\Admin\\anaconda3\\lib\\site-packages\\sklearn\\neighbors\\_classification.py:211: FutureWarning: Unlike other reduction functions (e.g. `skew`, `kurtosis`), the default behavior of `mode` typically preserves the axis it acts along. In SciPy 1.11.0, this behavior will change: the default value of `keepdims` will become False, the `axis` over which the statistic is taken will be eliminated, and the value None will no longer be accepted. Set `keepdims` to True or False to avoid this warning.\n",
      "  mode, _ = stats.mode(_y[neigh_ind, k], axis=1)\n"
     ]
    },
    {
     "data": {
      "image/png": "[encoded data removed]",
      "text/plain": [
       "<Figure size 640x480 with 1 Axes>"
      ]
     },
     "metadata": {},
     "output_type": "display_data"
    }
   ],
   "source": [
    "# KNN 분류기 객체 생성, 이웃의 수를 6으로 설정\n",
    "knn = KNeighborsClassifier(n_neighbors = 6)\n",
    "\n",
    "# 데이터를 훈련 세트와 테스트 세트로 나누기 (80% 훈련, 20% 테스트)\n",
    "X_train, X_test, y_train, y_test = train_test_split(\n",
    "    data, digits.target, test_size = 0.2\n",
    ")\n",
    "\n",
    "# KNN 모델 훈련\n",
    "knn.fit(X_train, y_train)\n",
    "\n",
    "# 테스트 데이터에 대한 예측 수행\n",
    "y_pred = knn.predict(X_test)\n",
    "\n",
    "# 모델의 정확도 계산\n",
    "scores = metrics.accuracy_score(y_test, y_pred)\n",
    "\n",
    "# 정확도 출력\n",
    "print(scores)\n",
    "\n",
    "# 테스트 세트에서 10번째 이미지를 출력\n",
    "plt.imshow(X_test[10].reshape(8, 8), cmap = plt.cm.gray_r, interpolation = 'nearest')\n",
    "\n",
    "# 10번째 이미지에 대한 예측 수행\n",
    "y_pred = knn.predict([X_test[10]])\n",
    "\n",
    "# 예측된 결과 출력\n",
    "print(y_pred)"
   ]
  },
  {
   "cell_type": "markdown",
   "metadata": {},
   "source": [
    "SVM 분류"
   ]
  },
  {
   "cell_type": "code",
   "execution_count": 16,
   "metadata": {},
   "outputs": [
    {
     "name": "stdout",
     "output_type": "stream",
     "text": [
      "Accuracy: 0.9888888888888889\n"
     ]
    },
    {
     "data": {
      "image/png": "[encoded data removed]",
      "text/plain": [
       "<Figure size 640x480 with 1 Axes>"
      ]
     },
     "metadata": {},
     "output_type": "display_data"
    },
    {
     "name": "stdout",
     "output_type": "stream",
     "text": [
      "Predicted label for test image 10: [0]\n"
     ]
    }
   ],
   "source": [
    "# SVM 분류기 객체 생성\n",
    "svm = SVC(gamma=0.001, kernel='rbf')  # RBF 커널을 사용한 SVM\n",
    "\n",
    "# SVM 모델 훈련\n",
    "svm.fit(X_train, y_train)\n",
    "\n",
    "# 테스트 데이터에 대한 예측 수행\n",
    "y_pred = svm.predict(X_test)\n",
    "\n",
    "# 정확도 평가\n",
    "scores = metrics.accuracy_score(y_test, y_pred)\n",
    "print(f\"Accuracy: {scores}\")\n",
    "\n",
    "# 테스트 세트에서 10번째 이미지 출력\n",
    "plt.imshow(X_test[10].reshape(8, 8), cmap = plt.cm.gray_r, interpolation = 'nearest')\n",
    "plt.show()\n",
    "\n",
    "# 10번째 이미지에 대한 예측 수행\n",
    "y_pred_single = svm.predict([X_test[10]])\n",
    "print(f\"Predicted label for test image 10: {y_pred_single}\")"
   ]
  }
 ],
 "metadata": {
  "kernelspec": {
   "display_name": "base",
   "language": "python",
   "name": "python3"
  },
  "language_info": {
   "codemirror_mode": {
    "name": "ipython",
    "version": 3
   },
   "file_extension": ".py",
   "mimetype": "text/x-python",
   "name": "python",
   "nbconvert_exporter": "python",
   "pygments_lexer": "ipython3",
   "version": "3.9.13"
  }
 },
 "nbformat": 4,
 "nbformat_minor": 2
}
