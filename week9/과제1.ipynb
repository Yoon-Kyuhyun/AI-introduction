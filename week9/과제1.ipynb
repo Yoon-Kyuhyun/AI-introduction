{
 "cells": [
  {
   "cell_type": "code",
   "execution_count": 1,
   "id": "260eb3e6",
   "metadata": {},
   "outputs": [],
   "source": [
    "import torch\n",
    "import torch.nn as nn\n",
    "import torch.optim as optim\n",
    "from sklearn import datasets, metrics\n",
    "from sklearn.model_selection import train_test_split\n",
    "import matplotlib.pyplot as plt"
   ]
  },
  {
   "cell_type": "markdown",
   "id": "f64b369e",
   "metadata": {},
   "source": [
    "데이터 로딩 및 전처리"
   ]
  },
  {
   "cell_type": "code",
   "execution_count": 2,
   "id": "57f90d3b",
   "metadata": {},
   "outputs": [],
   "source": [
    "digits = datasets.load_digits()\n",
    "X = digits.images.reshape((len(digits.images), -1))  # (n_samples, 64)\n",
    "y = digits.target"
   ]
  },
  {
   "cell_type": "markdown",
   "id": "e2b7acba",
   "metadata": {},
   "source": [
    "Tensor로 변환"
   ]
  },
  {
   "cell_type": "code",
   "execution_count": 3,
   "id": "5d12b8fe",
   "metadata": {},
   "outputs": [],
   "source": [
    "X = torch.tensor(X, dtype=torch.float32)\n",
    "y = torch.tensor(y, dtype=torch.long)"
   ]
  },
  {
   "cell_type": "markdown",
   "id": "0df64003",
   "metadata": {},
   "source": [
    "학습/테스트 분할"
   ]
  },
  {
   "cell_type": "code",
   "execution_count": 4,
   "id": "1c9103da",
   "metadata": {},
   "outputs": [],
   "source": [
    "X_train, X_test, y_train, y_test = train_test_split(X, y, test_size=0.2, random_state=42)"
   ]
  },
  {
   "cell_type": "markdown",
   "id": "3a10d9a2",
   "metadata": {},
   "source": [
    "DNN 모델 정의"
   ]
  },
  {
   "cell_type": "code",
   "execution_count": 5,
   "id": "703ebec8",
   "metadata": {},
   "outputs": [],
   "source": [
    "class DigitClassifier(nn.Module):\n",
    "    def __init__(self):\n",
    "        super(DigitClassifier, self).__init__()\n",
    "        self.model = nn.Sequential(\n",
    "            nn.Linear(64, 128),\n",
    "            nn.ReLU(),\n",
    "            nn.Linear(128, 64),\n",
    "            nn.ReLU(),\n",
    "            nn.Linear(64, 10)\n",
    "        )\n",
    "\n",
    "    def forward(self, x):\n",
    "        return self.model(x)\n",
    "\n",
    "device = torch.device(\"cuda\" if torch.cuda.is_available() else \"cpu\")\n",
    "model = DigitClassifier().to(device)"
   ]
  },
  {
   "cell_type": "markdown",
   "id": "04087bfe",
   "metadata": {},
   "source": [
    "손실 함수 및 옵티마이저"
   ]
  },
  {
   "cell_type": "code",
   "execution_count": 6,
   "id": "3130f851",
   "metadata": {},
   "outputs": [],
   "source": [
    "criterion = nn.CrossEntropyLoss()\n",
    "optimizer = optim.Adam(model.parameters(), lr=0.001)"
   ]
  },
  {
   "cell_type": "markdown",
   "id": "5c31f067",
   "metadata": {},
   "source": [
    "학습 루프"
   ]
  },
  {
   "cell_type": "code",
   "execution_count": 7,
   "id": "94a9297d",
   "metadata": {},
   "outputs": [
    {
     "name": "stdout",
     "output_type": "stream",
     "text": [
      "Epoch 1/20, Loss: 2.4871\n",
      "Epoch 2/20, Loss: 2.2844\n",
      "Epoch 3/20, Loss: 2.1333\n",
      "Epoch 4/20, Loss: 2.0107\n",
      "Epoch 5/20, Loss: 1.9040\n",
      "Epoch 6/20, Loss: 1.8054\n",
      "Epoch 7/20, Loss: 1.7108\n",
      "Epoch 8/20, Loss: 1.6174\n",
      "Epoch 9/20, Loss: 1.5231\n",
      "Epoch 10/20, Loss: 1.4272\n",
      "Epoch 11/20, Loss: 1.3304\n",
      "Epoch 12/20, Loss: 1.2337\n",
      "Epoch 13/20, Loss: 1.1385\n",
      "Epoch 14/20, Loss: 1.0457\n",
      "Epoch 15/20, Loss: 0.9570\n",
      "Epoch 16/20, Loss: 0.8729\n",
      "Epoch 17/20, Loss: 0.7945\n",
      "Epoch 18/20, Loss: 0.7227\n",
      "Epoch 19/20, Loss: 0.6577\n",
      "Epoch 20/20, Loss: 0.5984\n"
     ]
    }
   ],
   "source": [
    "X_train = X_train.to(device)\n",
    "y_train = y_train.to(device)\n",
    "\n",
    "epochs = 20\n",
    "for epoch in range(epochs):\n",
    "    model.train()\n",
    "    optimizer.zero_grad()\n",
    "    output = model(X_train)\n",
    "    loss = criterion(output, y_train)\n",
    "    loss.backward()\n",
    "    optimizer.step()\n",
    "    print(f\"Epoch {epoch+1}/{epochs}, Loss: {loss.item():.4f}\")"
   ]
  },
  {
   "cell_type": "markdown",
   "id": "ca3cc7d3",
   "metadata": {},
   "source": [
    "평가"
   ]
  },
  {
   "cell_type": "code",
   "execution_count": 8,
   "id": "9a4c57a1",
   "metadata": {},
   "outputs": [
    {
     "name": "stdout",
     "output_type": "stream",
     "text": [
      "Test Accuracy: 0.9139\n"
     ]
    }
   ],
   "source": [
    "model.eval()\n",
    "X_test = X_test.to(device)\n",
    "y_test = y_test.to(device)\n",
    "with torch.no_grad():\n",
    "    y_pred = model(X_test)\n",
    "    y_pred_labels = torch.argmax(y_pred, dim=1)\n",
    "    accuracy = (y_pred_labels == y_test).sum().item() / len(y_test)\n",
    "    print(f\"Test Accuracy: {accuracy:.4f}\")"
   ]
  },
  {
   "cell_type": "markdown",
   "id": "e6901dd4",
   "metadata": {},
   "source": [
    "시각화 및 예측 확인"
   ]
  },
  {
   "cell_type": "code",
   "execution_count": 9,
   "id": "2dd07211",
   "metadata": {},
   "outputs": [
    {
     "data": {
      "image/png": "[encoded data removed]",
      "text/plain": [
       "<Figure size 640x480 with 1 Axes>"
      ]
     },
     "metadata": {},
     "output_type": "display_data"
    }
   ],
   "source": [
    "index = 10\n",
    "plt.imshow(X_test[index].cpu().reshape(8, 8), cmap=plt.cm.gray_r, interpolation='nearest')\n",
    "plt.title(f\"Predicted: {y_pred_labels[index].item()}\")\n",
    "plt.show()"
   ]
  }
 ],
 "metadata": {
  "kernelspec": {
   "display_name": "base",
   "language": "python",
   "name": "python3"
  },
  "language_info": {
   "codemirror_mode": {
    "name": "ipython",
    "version": 3
   },
   "file_extension": ".py",
   "mimetype": "text/x-python",
   "name": "python",
   "nbconvert_exporter": "python",
   "pygments_lexer": "ipython3",
   "version": "3.9.13"
  }
 },
 "nbformat": 4,
 "nbformat_minor": 5
}
