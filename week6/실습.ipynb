{
 "cells": [
  {
   "cell_type": "code",
   "execution_count": 26,
   "id": "f0f2301b",
   "metadata": {},
   "outputs": [],
   "source": [
    "import pandas as pd\n",
    "import numpy as np\n",
    "import torch\n",
    "import torch.nn as nn\n",
    "import torch.optim as optim\n",
    "from torch.utils.data import Dataset, DataLoader, TensorDataset\n",
    "from sklearn.preprocessing import LabelEncoder\n",
    "from sklearn.metrics import precision_score, recall_score, f1_score, roc_auc_score, confusion_matrix, ConfusionMatrixDisplay\n",
    "from sklearn.preprocessing import StandardScaler\n",
    "import matplotlib.pyplot as plt\n",
    "from torchsummary import summary\n",
    "from sklearn.model_selection import train_test_split"
   ]
  },
  {
   "cell_type": "markdown",
   "id": "bd92ef23",
   "metadata": {},
   "source": [
    "데이터 로드 및 확인"
   ]
  },
  {
   "cell_type": "code",
   "execution_count": 7,
   "id": "314c033d",
   "metadata": {},
   "outputs": [
    {
     "data": {
      "text/html": [
       "<div>\n",
       "<style scoped>\n",
       "    .dataframe tbody tr th:only-of-type {\n",
       "        vertical-align: middle;\n",
       "    }\n",
       "\n",
       "    .dataframe tbody tr th {\n",
       "        vertical-align: top;\n",
       "    }\n",
       "\n",
       "    .dataframe thead th {\n",
       "        text-align: right;\n",
       "    }\n",
       "</style>\n",
       "<table border=\"1\" class=\"dataframe\">\n",
       "  <thead>\n",
       "    <tr style=\"text-align: right;\">\n",
       "      <th></th>\n",
       "      <th>Pregnancies</th>\n",
       "      <th>Glucose</th>\n",
       "      <th>BloodPressure</th>\n",
       "      <th>SkinThickness</th>\n",
       "      <th>Insulin</th>\n",
       "      <th>BMI</th>\n",
       "      <th>DiabetesPedigreeFunction</th>\n",
       "      <th>Age</th>\n",
       "      <th>Outcome</th>\n",
       "    </tr>\n",
       "  </thead>\n",
       "  <tbody>\n",
       "    <tr>\n",
       "      <th>0</th>\n",
       "      <td>6</td>\n",
       "      <td>148</td>\n",
       "      <td>72</td>\n",
       "      <td>35</td>\n",
       "      <td>0</td>\n",
       "      <td>33.6</td>\n",
       "      <td>0.627</td>\n",
       "      <td>50</td>\n",
       "      <td>1</td>\n",
       "    </tr>\n",
       "    <tr>\n",
       "      <th>1</th>\n",
       "      <td>1</td>\n",
       "      <td>85</td>\n",
       "      <td>66</td>\n",
       "      <td>29</td>\n",
       "      <td>0</td>\n",
       "      <td>26.6</td>\n",
       "      <td>0.351</td>\n",
       "      <td>31</td>\n",
       "      <td>0</td>\n",
       "    </tr>\n",
       "    <tr>\n",
       "      <th>2</th>\n",
       "      <td>8</td>\n",
       "      <td>183</td>\n",
       "      <td>64</td>\n",
       "      <td>0</td>\n",
       "      <td>0</td>\n",
       "      <td>23.3</td>\n",
       "      <td>0.672</td>\n",
       "      <td>32</td>\n",
       "      <td>1</td>\n",
       "    </tr>\n",
       "    <tr>\n",
       "      <th>3</th>\n",
       "      <td>1</td>\n",
       "      <td>89</td>\n",
       "      <td>66</td>\n",
       "      <td>23</td>\n",
       "      <td>94</td>\n",
       "      <td>28.1</td>\n",
       "      <td>0.167</td>\n",
       "      <td>21</td>\n",
       "      <td>0</td>\n",
       "    </tr>\n",
       "    <tr>\n",
       "      <th>4</th>\n",
       "      <td>0</td>\n",
       "      <td>137</td>\n",
       "      <td>40</td>\n",
       "      <td>35</td>\n",
       "      <td>168</td>\n",
       "      <td>43.1</td>\n",
       "      <td>2.288</td>\n",
       "      <td>33</td>\n",
       "      <td>1</td>\n",
       "    </tr>\n",
       "    <tr>\n",
       "      <th>...</th>\n",
       "      <td>...</td>\n",
       "      <td>...</td>\n",
       "      <td>...</td>\n",
       "      <td>...</td>\n",
       "      <td>...</td>\n",
       "      <td>...</td>\n",
       "      <td>...</td>\n",
       "      <td>...</td>\n",
       "      <td>...</td>\n",
       "    </tr>\n",
       "    <tr>\n",
       "      <th>763</th>\n",
       "      <td>10</td>\n",
       "      <td>101</td>\n",
       "      <td>76</td>\n",
       "      <td>48</td>\n",
       "      <td>180</td>\n",
       "      <td>32.9</td>\n",
       "      <td>0.171</td>\n",
       "      <td>63</td>\n",
       "      <td>0</td>\n",
       "    </tr>\n",
       "    <tr>\n",
       "      <th>764</th>\n",
       "      <td>2</td>\n",
       "      <td>122</td>\n",
       "      <td>70</td>\n",
       "      <td>27</td>\n",
       "      <td>0</td>\n",
       "      <td>36.8</td>\n",
       "      <td>0.340</td>\n",
       "      <td>27</td>\n",
       "      <td>0</td>\n",
       "    </tr>\n",
       "    <tr>\n",
       "      <th>765</th>\n",
       "      <td>5</td>\n",
       "      <td>121</td>\n",
       "      <td>72</td>\n",
       "      <td>23</td>\n",
       "      <td>112</td>\n",
       "      <td>26.2</td>\n",
       "      <td>0.245</td>\n",
       "      <td>30</td>\n",
       "      <td>0</td>\n",
       "    </tr>\n",
       "    <tr>\n",
       "      <th>766</th>\n",
       "      <td>1</td>\n",
       "      <td>126</td>\n",
       "      <td>60</td>\n",
       "      <td>0</td>\n",
       "      <td>0</td>\n",
       "      <td>30.1</td>\n",
       "      <td>0.349</td>\n",
       "      <td>47</td>\n",
       "      <td>1</td>\n",
       "    </tr>\n",
       "    <tr>\n",
       "      <th>767</th>\n",
       "      <td>1</td>\n",
       "      <td>93</td>\n",
       "      <td>70</td>\n",
       "      <td>31</td>\n",
       "      <td>0</td>\n",
       "      <td>30.4</td>\n",
       "      <td>0.315</td>\n",
       "      <td>23</td>\n",
       "      <td>0</td>\n",
       "    </tr>\n",
       "  </tbody>\n",
       "</table>\n",
       "<p>768 rows × 9 columns</p>\n",
       "</div>"
      ],
      "text/plain": [
       "     Pregnancies  Glucose  BloodPressure  SkinThickness  Insulin   BMI  \\\n",
       "0              6      148             72             35        0  33.6   \n",
       "1              1       85             66             29        0  26.6   \n",
       "2              8      183             64              0        0  23.3   \n",
       "3              1       89             66             23       94  28.1   \n",
       "4              0      137             40             35      168  43.1   \n",
       "..           ...      ...            ...            ...      ...   ...   \n",
       "763           10      101             76             48      180  32.9   \n",
       "764            2      122             70             27        0  36.8   \n",
       "765            5      121             72             23      112  26.2   \n",
       "766            1      126             60              0        0  30.1   \n",
       "767            1       93             70             31        0  30.4   \n",
       "\n",
       "     DiabetesPedigreeFunction  Age  Outcome  \n",
       "0                       0.627   50        1  \n",
       "1                       0.351   31        0  \n",
       "2                       0.672   32        1  \n",
       "3                       0.167   21        0  \n",
       "4                       2.288   33        1  \n",
       "..                        ...  ...      ...  \n",
       "763                     0.171   63        0  \n",
       "764                     0.340   27        0  \n",
       "765                     0.245   30        0  \n",
       "766                     0.349   47        1  \n",
       "767                     0.315   23        0  \n",
       "\n",
       "[768 rows x 9 columns]"
      ]
     },
     "execution_count": 7,
     "metadata": {},
     "output_type": "execute_result"
    }
   ],
   "source": [
    "data = pd.read_csv('diabetes.csv')  # CSV 파일 경로\n",
    "data"
   ]
  },
  {
   "cell_type": "markdown",
   "id": "2060f3ed",
   "metadata": {},
   "source": [
    "데이터 엔코딩"
   ]
  },
  {
   "cell_type": "code",
   "execution_count": 14,
   "id": "64f892c9",
   "metadata": {},
   "outputs": [
    {
     "name": "stdout",
     "output_type": "stream",
     "text": [
      "   Pregnancies  Glucose  BloodPressure  SkinThickness  Insulin  BMI  \\\n",
      "0            0        0              0              0        0    0   \n",
      "1            1        1              2              2        2    1   \n",
      "2            2        2              1              1        1    2   \n",
      "\n",
      "   DiabetesPedigreeFunction  Age  Outcome  \n",
      "0                         1    0        0  \n",
      "1                         2    1        1  \n",
      "2                         0    2        0  \n"
     ]
    }
   ],
   "source": [
    "# 예시 데이터프레임 (데모용 데이터)\n",
    "data = pd.DataFrame({\n",
    "    'Pregnancies': ['1', '2', '3'],\n",
    "    'Glucose': ['85', '90', '95'],\n",
    "    'BloodPressure': ['70', '80', '75'],\n",
    "    'SkinThickness': ['20', '25', '23'],\n",
    "    'Insulin': ['120', '130', '125'],\n",
    "    'BMI': ['30.5', '32.0', '33.1'],\n",
    "    'DiabetesPedigreeFunction': ['0.5', '0.6', '0.4'],\n",
    "    'Age': ['25', '30', '35'],\n",
    "    'Outcome': ['0', '1', '0']\n",
    "})\n",
    "\n",
    "# 열 이름을 사용자가 제공한 대로 설정\n",
    "data.columns = ['Pregnancies', 'Glucose', 'BloodPressure', 'SkinThickness', 'Insulin', 'BMI', 'DiabetesPedigreeFunction', 'Age', 'Outcome']\n",
    "\n",
    "# Label Encoding을 적용할 열 목록\n",
    "columns = ['Pregnancies', 'Glucose', 'BloodPressure', 'SkinThickness', 'Insulin', 'BMI', 'DiabetesPedigreeFunction', 'Age', 'Outcome']\n",
    "\n",
    "# LabelEncoder 객체를 저장할 딕셔너리 초기화\n",
    "label_encoders = {}\n",
    "\n",
    "# 각 열에 대해 LabelEncoder를 적용\n",
    "for column in columns:\n",
    "    label_encoders[column] = LabelEncoder()  # LabelEncoder 객체 생성\n",
    "    data[column] = label_encoders[column].fit_transform(data[column])  # 해당 열에 Label Encoding 적용\n",
    "\n",
    "# 변환된 데이터프레임 출력\n",
    "print(data)"
   ]
  },
  {
   "cell_type": "markdown",
   "id": "33ae2f98",
   "metadata": {},
   "source": [
    "레이블 및 전처리"
   ]
  },
  {
   "cell_type": "code",
   "execution_count": 17,
   "id": "8ca18a16",
   "metadata": {},
   "outputs": [],
   "source": [
    "# 데이터와 타겟 분리\n",
    "X = data.drop('Outcome', axis=1).values\n",
    "y = data['Outcome'].values"
   ]
  },
  {
   "cell_type": "markdown",
   "id": "b484cec1",
   "metadata": {},
   "source": [
    "데이터 스케일링"
   ]
  },
  {
   "cell_type": "code",
   "execution_count": 23,
   "id": "c34ba045",
   "metadata": {},
   "outputs": [],
   "source": [
    "# Standardize the data\n",
    "scaler = StandardScaler()\n",
    "X = scaler.fit_transform(X)"
   ]
  },
  {
   "cell_type": "markdown",
   "id": "c8326ced",
   "metadata": {},
   "source": [
    "훈련 데이터"
   ]
  },
  {
   "cell_type": "code",
   "execution_count": 27,
   "id": "2daa0f5b",
   "metadata": {},
   "outputs": [],
   "source": [
    "# 훈련/테스트 데이터 분리\n",
    "X_train, X_test, y_train, y_test = train_test_split(X, y, test_size=0.2, random_state=0)"
   ]
  },
  {
   "cell_type": "markdown",
   "id": "5c5e87fd",
   "metadata": {},
   "source": [
    "PyTorch 텐서로 데이터 변환"
   ]
  },
  {
   "cell_type": "code",
   "execution_count": 30,
   "id": "40828bac",
   "metadata": {},
   "outputs": [
    {
     "name": "stderr",
     "output_type": "stream",
     "text": [
      "C:\\Users\\Admin\\AppData\\Local\\Temp\\ipykernel_4516\\4017085670.py:2: UserWarning: To copy construct from a tensor, it is recommended to use sourceTensor.clone().detach() or sourceTensor.clone().detach().requires_grad_(True), rather than torch.tensor(sourceTensor).\n",
      "  X_train = torch.tensor(X_train, dtype=torch.float32)  # X_train을 float32 타입의 PyTorch 텐서로 변환\n",
      "C:\\Users\\Admin\\AppData\\Local\\Temp\\ipykernel_4516\\4017085670.py:3: UserWarning: To copy construct from a tensor, it is recommended to use sourceTensor.clone().detach() or sourceTensor.clone().detach().requires_grad_(True), rather than torch.tensor(sourceTensor).\n",
      "  y_train = torch.tensor(y_train, dtype=torch.int64)    # y_train을 int64 타입의 PyTorch 텐서로 변환\n",
      "C:\\Users\\Admin\\AppData\\Local\\Temp\\ipykernel_4516\\4017085670.py:4: UserWarning: To copy construct from a tensor, it is recommended to use sourceTensor.clone().detach() or sourceTensor.clone().detach().requires_grad_(True), rather than torch.tensor(sourceTensor).\n",
      "  X_test = torch.tensor(X_test, dtype=torch.float32)    # X_test를 float32 타입의 PyTorch 텐서로 변환\n",
      "C:\\Users\\Admin\\AppData\\Local\\Temp\\ipykernel_4516\\4017085670.py:5: UserWarning: To copy construct from a tensor, it is recommended to use sourceTensor.clone().detach() or sourceTensor.clone().detach().requires_grad_(True), rather than torch.tensor(sourceTensor).\n",
      "  y_test = torch.tensor(y_test, dtype=torch.int64)      # y_test를 int64 타입의 PyTorch 텐서로 변환\n"
     ]
    }
   ],
   "source": [
    "# Convert to PyTorch tensors\n",
    "X_train = torch.tensor(X_train, dtype=torch.float32)  # X_train을 float32 타입의 PyTorch 텐서로 변환\n",
    "y_train = torch.tensor(y_train, dtype=torch.int64)    # y_train을 int64 타입의 PyTorch 텐서로 변환\n",
    "X_test = torch.tensor(X_test, dtype=torch.float32)    # X_test를 float32 타입의 PyTorch 텐서로 변환\n",
    "y_test = torch.tensor(y_test, dtype=torch.int64)      # y_test를 int64 타입의 PyTorch 텐서로 변환"
   ]
  },
  {
   "cell_type": "markdown",
   "id": "f6b60bf1",
   "metadata": {},
   "source": [
    "데이터 로드"
   ]
  },
  {
   "cell_type": "code",
   "execution_count": 31,
   "id": "e153d8f1",
   "metadata": {},
   "outputs": [
    {
     "data": {
      "text/plain": [
       "(torch.Size([2, 8]), torch.Size([1, 8]), torch.Size([2]), torch.Size([1]))"
      ]
     },
     "execution_count": 31,
     "metadata": {},
     "output_type": "execute_result"
    }
   ],
   "source": [
    "# Create DataLoader\n",
    "train_dataset = TensorDataset(X_train, y_train)  # 학습 데이터를 TensorDataset 형태로 변환\n",
    "train_dataloader = DataLoader(train_dataset, batch_size=32, shuffle=True)  # 학습용 DataLoader 생성\n",
    "\n",
    "test_dataset = TensorDataset(X_test, y_test)  # 테스트 데이터를 TensorDataset 형태로 변환\n",
    "test_dataloader = DataLoader(test_dataset, batch_size=32, shuffle=False)  # 테스트용 DataLoader 생성\n",
    "\n",
    "# 데이터 크기 확인\n",
    "X_train.shape, X_test.shape, y_train.shape, y_test.shape"
   ]
  },
  {
   "cell_type": "markdown",
   "id": "7b63743f",
   "metadata": {},
   "source": [
    "모델 정의"
   ]
  },
  {
   "cell_type": "code",
   "execution_count": 43,
   "id": "2265dcd4",
   "metadata": {},
   "outputs": [],
   "source": [
    "class DiabetesDense(nn.Module):\n",
    "    def __init__(self):\n",
    "        super(DiabetesDense, self).__init__()\n",
    "        # 8개의 입력 특성 (Diabetes 데이터셋에 맞게 수정)\n",
    "        self.fc1 = nn.Linear(8, 64)  # 첫 번째 은닉층, 8개의 입력을 받아 64개의 뉴런으로 처리\n",
    "        self.fc2 = nn.Linear(64, 32)  # 두 번째 은닉층, 64개의 뉴런을 받아 32개의 뉴런으로 처리\n",
    "        self.fc3 = nn.Linear(32, 1)   # 출력층, 1개의 뉴런 (이진 분류)\n",
    "        self.sigmoid = nn.Sigmoid()   # 시그모이드 활성화 함수 (이진 분류 확률 출력)\n",
    "    \n",
    "    def forward(self, x):\n",
    "        x = torch.relu(self.fc1(x))  # ReLU 활성화 함수 (첫 번째 은닉층)\n",
    "        x = torch.relu(self.fc2(x))  # ReLU 활성화 함수 (두 번째 은닉층)\n",
    "        x = self.fc3(x)              # 출력층\n",
    "        x = self.sigmoid(x)          # 시그모이드 함수로 이진 분류 확률 계산\n",
    "        return x\n",
    "\n",
    "# 모델 초기화\n",
    "model = DiabetesDense()\n",
    "\n",
    "# 모델, 손실 함수, 옵티마이저 설정\n",
    "model = DiabetesModel()\n",
    "criterion = nn.CrossEntropyLoss()  # CrossEntropyLoss는 정수형 라벨을 사용합니다.\n",
    "optimizer = optim.Adam(model.parameters(), lr=0.001)\n"
   ]
  },
  {
   "cell_type": "markdown",
   "id": "7d2f4dd2",
   "metadata": {},
   "source": [
    "손실 함수 및 최적화 기법 정의"
   ]
  },
  {
   "cell_type": "code",
   "execution_count": 35,
   "id": "c0ff5c61",
   "metadata": {},
   "outputs": [],
   "source": [
    "# 손실 함수 설정\n",
    "criterion = nn.CrossEntropyLoss()  # 다중 클래스 분류 문제에서 사용하는 교차 엔트로피 손실 함수\n",
    "\n",
    "# 옵티마이저 설정\n",
    "optimizer = optim.Adam(model.parameters(), lr=0.001)  # Adam 옵티마이저를 사용하여 모델의 파라미터를 최적화, 학습률(lr)은 0.001로 설정\n"
   ]
  },
  {
   "cell_type": "markdown",
   "id": "7c28d4fd",
   "metadata": {},
   "source": [
    "모델 학습"
   ]
  },
  {
   "cell_type": "code",
   "execution_count": 44,
   "id": "9934ec9b",
   "metadata": {},
   "outputs": [
    {
     "name": "stdout",
     "output_type": "stream",
     "text": [
      "Epoch 1/20, Loss: 0.7190, Accuracy: 0.00%\n",
      "Epoch 2/20, Loss: 0.6964, Accuracy: 0.00%\n",
      "Epoch 3/20, Loss: 0.6743, Accuracy: 0.00%\n",
      "Epoch 4/20, Loss: 0.6537, Accuracy: 0.00%\n",
      "Epoch 5/20, Loss: 0.6354, Accuracy: 0.00%\n",
      "Epoch 6/20, Loss: 0.6174, Accuracy: 0.00%\n",
      "Epoch 7/20, Loss: 0.6002, Accuracy: 0.00%\n",
      "Epoch 8/20, Loss: 0.5839, Accuracy: 0.00%\n",
      "Epoch 9/20, Loss: 0.5677, Accuracy: 0.00%\n",
      "Epoch 10/20, Loss: 0.5516, Accuracy: 0.00%\n",
      "Epoch 11/20, Loss: 0.5359, Accuracy: 0.00%\n",
      "Epoch 12/20, Loss: 0.5204, Accuracy: 0.00%\n",
      "Epoch 13/20, Loss: 0.5052, Accuracy: 0.00%\n",
      "Epoch 14/20, Loss: 0.4902, Accuracy: 0.00%\n",
      "Epoch 15/20, Loss: 0.4766, Accuracy: 0.00%\n",
      "Epoch 16/20, Loss: 0.4635, Accuracy: 0.00%\n",
      "Epoch 17/20, Loss: 0.4502, Accuracy: 0.00%\n",
      "Epoch 18/20, Loss: 0.4368, Accuracy: 0.00%\n",
      "Epoch 19/20, Loss: 0.4236, Accuracy: 0.00%\n",
      "Epoch 20/20, Loss: 0.4104, Accuracy: 0.00%\n",
      "Training complete.\n"
     ]
    }
   ],
   "source": [
    "# 필요한 라이브러리 임포트\n",
    "import torch\n",
    "import torch.nn as nn\n",
    "import torch.optim as optim\n",
    "\n",
    "# Variables to store loss and accuracy\n",
    "train_losses = []  # 학습 손실을 저장할 리스트\n",
    "test_accuracies = []  # 테스트 정확도를 저장할 리스트\n",
    "\n",
    "# Training loop\n",
    "num_epochs = 20  # 학습할 에폭 수\n",
    "for epoch in range(num_epochs):  # 각 에폭에 대해 반복\n",
    "    model.train()  # 모델을 훈련 모드로 설정\n",
    "    running_loss = 0.0  # 각 에폭에서 손실을 누적할 변수\n",
    "    for inputs, labels in train_dataloader:  # 훈련 데이터에서 배치를 하나씩 꺼내옴\n",
    "        # Zero the parameter gradients (기울기 초기화)\n",
    "        optimizer.zero_grad()\n",
    "\n",
    "        # Forward pass (순전파)\n",
    "        outputs = model(inputs)  # 모델에 입력값을 넣고 예측값을 얻음\n",
    "        loss = criterion(outputs, labels)  # 예측값과 실제값 사이의 손실 계산\n",
    "\n",
    "        # Backward pass and optimize (역전파와 가중치 최적화)\n",
    "        loss.backward()  # 손실에 대해 역전파 수행\n",
    "        optimizer.step()  # 옵티마이저로 가중치를 업데이트\n",
    "\n",
    "        running_loss += loss.item()  # 손실 값을 누적\n",
    "\n",
    "    # Calculate average loss over an epoch (에폭마다 평균 손실 계산)\n",
    "    train_losses.append(running_loss / len(train_dataloader))  # 한 에폭의 평균 손실 저장\n",
    "\n",
    "    # Evaluate on test data (테스트 데이터로 모델 평가)\n",
    "    model.eval()  # 모델을 평가 모드로 설정\n",
    "    correct = 0  # 정확도 계산을 위한 변수\n",
    "    total = 0  # 총 샘플 수\n",
    "    with torch.no_grad():  # 평가 시에는 기울기를 계산하지 않음\n",
    "        for inputs, labels in test_dataloader:  # 테스트 데이터에서 배치를 하나씩 꺼냄\n",
    "            outputs = model(inputs)  # 모델에 입력값을 넣고 예측값을 얻음\n",
    "            _, predicted = torch.max(outputs.data, 1)  # 예측값 중 가장 큰 값(클래스) 선택\n",
    "            total += labels.size(0)  # 전체 샘플 수 갱신\n",
    "            correct += (predicted == labels).sum().item()  # 예측이 맞은 샘플의 수를 누적\n",
    "\n",
    "    accuracy = 100 * correct / total  # 정확도 계산\n",
    "    test_accuracies.append(accuracy)  # 테스트 정확도 저장\n",
    "\n",
    "    # 에폭별 손실과 정확도 출력\n",
    "    print(f\"Epoch {epoch + 1}/{num_epochs}, Loss: {train_losses[-1]:.4f}, Accuracy: {accuracy:.2f}%\")\n",
    "\n",
    "print(\"Training complete.\")  # 학습 완료 후 출력\n"
   ]
  },
  {
   "cell_type": "markdown",
   "id": "2a71882c",
   "metadata": {},
   "source": [
    "모델 평가"
   ]
  },
  {
   "cell_type": "code",
   "execution_count": 45,
   "id": "0d99f73f",
   "metadata": {},
   "outputs": [
    {
     "name": "stdout",
     "output_type": "stream",
     "text": [
      "Confusion Matrix:\n",
      "[[0 1]\n",
      " [0 0]]\n",
      "F1 Score: 0.00\n",
      "Precision: 0.00\n",
      "Recall: 0.00\n"
     ]
    },
    {
     "name": "stderr",
     "output_type": "stream",
     "text": [
      "c:\\Users\\Admin\\anaconda3\\lib\\site-packages\\sklearn\\metrics\\_classification.py:1248: UndefinedMetricWarning: Precision is ill-defined and being set to 0.0 in labels with no predicted samples. Use `zero_division` parameter to control this behavior.\n",
      "  _warn_prf(average, modifier, msg_start, len(result))\n",
      "c:\\Users\\Admin\\anaconda3\\lib\\site-packages\\sklearn\\metrics\\_classification.py:1248: UndefinedMetricWarning: Recall is ill-defined and being set to 0.0 in labels with no true samples. Use `zero_division` parameter to control this behavior.\n",
      "  _warn_prf(average, modifier, msg_start, len(result))\n"
     ]
    }
   ],
   "source": [
    "# Variables to store evaluation metrics\n",
    "train_losses = []  # 학습 손실을 저장할 리스트\n",
    "test_accuracies = []  # 테스트 정확도를 저장할 리스트\n",
    "\n",
    "# Evaluation\n",
    "model.eval()  # 모델을 평가 모드로 설정\n",
    "all_labels = []  # 실제 라벨 값을 저장할 리스트\n",
    "all_predictions = []  # 예측값을 저장할 리스트\n",
    "with torch.no_grad():  # 기울기 계산 비활성화\n",
    "    for inputs, labels in test_dataloader:  # 테스트 데이터 배치마다 반복\n",
    "        outputs = model(inputs)  # 모델에 입력값을 넣고 예측값 얻음\n",
    "        _, predicted = torch.max(outputs.data, 1)  # 가장 높은 값의 클래스 예측\n",
    "        all_labels.extend(labels.cpu().numpy())  # 실제 라벨 리스트에 추가\n",
    "        all_predictions.extend(predicted.cpu().numpy())  # 예측값 리스트에 추가\n",
    "\n",
    "# Convert to numpy arrays\n",
    "all_labels = np.array(all_labels)  # 실제 라벨을 numpy 배열로 변환\n",
    "all_predictions = np.array(all_predictions)  # 예측값을 numpy 배열로 변환\n",
    "\n",
    "# Calculate metrics\n",
    "conf_matrix = confusion_matrix(all_labels, all_predictions)  # 혼동 행렬 계산\n",
    "f1 = f1_score(all_labels, all_predictions, average='weighted')  # F1 스코어 계산\n",
    "precision = precision_score(all_labels, all_predictions, average='weighted')  # Precision 계산\n",
    "recall = recall_score(all_labels, all_predictions, average='weighted')  # Recall 계산\n",
    "\n",
    "# 출력\n",
    "print(f'Confusion Matrix:\\n{conf_matrix}')\n",
    "print(f'F1 Score: {f1:.2f}')\n",
    "print(f'Precision: {precision:.2f}')\n",
    "print(f'Recall: {recall:.2f}')\n"
   ]
  }
 ],
 "metadata": {
  "kernelspec": {
   "display_name": "base",
   "language": "python",
   "name": "python3"
  },
  "language_info": {
   "codemirror_mode": {
    "name": "ipython",
    "version": 3
   },
   "file_extension": ".py",
   "mimetype": "text/x-python",
   "name": "python",
   "nbconvert_exporter": "python",
   "pygments_lexer": "ipython3",
   "version": "3.9.13"
  }
 },
 "nbformat": 4,
 "nbformat_minor": 5
}
